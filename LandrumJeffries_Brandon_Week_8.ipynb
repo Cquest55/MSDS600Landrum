{
 "cells": [
  {
   "cell_type": "markdown",
   "id": "da97052f",
   "metadata": {},
   "source": [
    "# Week 8 assignment: NLP on social media data\n",
    "\n",
    "Take our social media we collected last week and:\n",
    "\n",
    "- extract the sentiment scores of the titles of the posts\n",
    "    - you can use the keyword method, Python packages, or other methods to extract the sentiment scores\n",
    "- plot a histogram of the sentiment scores\n",
    "- look at descriptive statistics (mean, median, standard deviation) of the sentiment scores\n",
    "- examine the text for some of the highest and lowest sentiment scores\n",
    "- write a short analysis of the results and our process, as well as propose one idea for something we could use this data for\n",
    "\n",
    "Optional advanced challenges:\n",
    "- Compare different sentiment analysis methods (e.g. textblob and VADER). Does one seem to work better than another?\n",
    "- Get the sentiments of the comments for each post. We can do a lot with this, such as:\n",
    "    - look at the average sentiment for each post and compare it with the sentiment of the title and/or text\n",
    "    - look at the distribution of sentiments for each post and find the posts with the widest range of sentiments (controversial posts)\n",
    "- Examine the subjectivity of our data (e.g. using textblob)\n",
    "- Use topic modeling on the posts\n",
    "    - you can also add in the comments to the topic model\n",
    "- Look at the most frequent words for positive and negative sentiment posts\n",
    "\n",
    "Note: There is no assignment solution file for this week."
   ]
  },
  {
   "cell_type": "code",
   "execution_count": 2,
   "id": "e5e84e50",
   "metadata": {},
   "outputs": [
    {
     "data": {
      "text/html": [
       "<div>\n",
       "<style scoped>\n",
       "    .dataframe tbody tr th:only-of-type {\n",
       "        vertical-align: middle;\n",
       "    }\n",
       "\n",
       "    .dataframe tbody tr th {\n",
       "        vertical-align: top;\n",
       "    }\n",
       "\n",
       "    .dataframe thead th {\n",
       "        text-align: right;\n",
       "    }\n",
       "</style>\n",
       "<table border=\"1\" class=\"dataframe\">\n",
       "  <thead>\n",
       "    <tr style=\"text-align: right;\">\n",
       "      <th></th>\n",
       "      <th>index</th>\n",
       "      <th>title</th>\n",
       "      <th>link</th>\n",
       "      <th>author</th>\n",
       "      <th>n_comments</th>\n",
       "      <th>score</th>\n",
       "      <th>text</th>\n",
       "      <th>id</th>\n",
       "    </tr>\n",
       "  </thead>\n",
       "  <tbody>\n",
       "    <tr>\n",
       "      <th>0</th>\n",
       "      <td>0</td>\n",
       "      <td>Red Rocks, 1974 John Denver concert</td>\n",
       "      <td>/r/Colorado/comments/mug406/red_rocks_1974_joh...</td>\n",
       "      <td>Mellotime</td>\n",
       "      <td>1</td>\n",
       "      <td>28</td>\n",
       "      <td></td>\n",
       "      <td>mug406</td>\n",
       "    </tr>\n",
       "    <tr>\n",
       "      <th>1</th>\n",
       "      <td>1</td>\n",
       "      <td>Hiking the Royal Gorge in a spring snowstorm</td>\n",
       "      <td>/r/Colorado/comments/muffdl/hiking_the_royal_g...</td>\n",
       "      <td>TaipeiPersonality_</td>\n",
       "      <td>1</td>\n",
       "      <td>19</td>\n",
       "      <td></td>\n",
       "      <td>muffdl</td>\n",
       "    </tr>\n",
       "    <tr>\n",
       "      <th>2</th>\n",
       "      <td>2</td>\n",
       "      <td>Rocky Mountain National Park this weekend!</td>\n",
       "      <td>/r/Colorado/comments/mufe4j/rocky_mountain_nat...</td>\n",
       "      <td>TaipeiPersonality_</td>\n",
       "      <td>2</td>\n",
       "      <td>19</td>\n",
       "      <td></td>\n",
       "      <td>mufe4j</td>\n",
       "    </tr>\n",
       "    <tr>\n",
       "      <th>3</th>\n",
       "      <td>3</td>\n",
       "      <td>Milky way at Loveland Pass last weekend</td>\n",
       "      <td>/r/Colorado/comments/mud617/milky_way_at_lovel...</td>\n",
       "      <td>Sutitan</td>\n",
       "      <td>35</td>\n",
       "      <td>692</td>\n",
       "      <td></td>\n",
       "      <td>mud617</td>\n",
       "    </tr>\n",
       "    <tr>\n",
       "      <th>4</th>\n",
       "      <td>4</td>\n",
       "      <td>Weminuche Wilderness</td>\n",
       "      <td>/r/Colorado/comments/mu835a/weminuche_wilderness/</td>\n",
       "      <td>finerminer17</td>\n",
       "      <td>13</td>\n",
       "      <td>189</td>\n",
       "      <td></td>\n",
       "      <td>mu835a</td>\n",
       "    </tr>\n",
       "    <tr>\n",
       "      <th>...</th>\n",
       "      <td>...</td>\n",
       "      <td>...</td>\n",
       "      <td>...</td>\n",
       "      <td>...</td>\n",
       "      <td>...</td>\n",
       "      <td>...</td>\n",
       "      <td>...</td>\n",
       "      <td>...</td>\n",
       "    </tr>\n",
       "    <tr>\n",
       "      <th>912</th>\n",
       "      <td>912</td>\n",
       "      <td>Hoarfrost on one of my sundials this brisk mor...</td>\n",
       "      <td>/r/Colorado/comments/kcnpj5/hoarfrost_on_one_o...</td>\n",
       "      <td>IronRainForge</td>\n",
       "      <td>5</td>\n",
       "      <td>78</td>\n",
       "      <td></td>\n",
       "      <td>kcnpj5</td>\n",
       "    </tr>\n",
       "    <tr>\n",
       "      <th>913</th>\n",
       "      <td>913</td>\n",
       "      <td>The Stanley Hotel after some snow</td>\n",
       "      <td>/r/Colorado/comments/kclire/the_stanley_hotel_...</td>\n",
       "      <td>TFG4</td>\n",
       "      <td>9</td>\n",
       "      <td>251</td>\n",
       "      <td></td>\n",
       "      <td>kclire</td>\n",
       "    </tr>\n",
       "    <tr>\n",
       "      <th>914</th>\n",
       "      <td>914</td>\n",
       "      <td>The stanley hotel in Estes in October</td>\n",
       "      <td>/r/Colorado/comments/kclfwi/the_stanley_hotel_...</td>\n",
       "      <td>TFG4</td>\n",
       "      <td>1</td>\n",
       "      <td>44</td>\n",
       "      <td></td>\n",
       "      <td>kclfwi</td>\n",
       "    </tr>\n",
       "    <tr>\n",
       "      <th>915</th>\n",
       "      <td>915</td>\n",
       "      <td>Picture my dad took - Sawatch Range just SW of...</td>\n",
       "      <td>/r/Colorado/comments/kckwut/picture_my_dad_too...</td>\n",
       "      <td>theredcameron</td>\n",
       "      <td>6</td>\n",
       "      <td>95</td>\n",
       "      <td></td>\n",
       "      <td>kckwut</td>\n",
       "    </tr>\n",
       "    <tr>\n",
       "      <th>916</th>\n",
       "      <td>916</td>\n",
       "      <td>Favorite spot of the summer. Dolores SWA, publ...</td>\n",
       "      <td>/r/Colorado/comments/kcjf3v/favorite_spot_of_t...</td>\n",
       "      <td>snowsurfer2110</td>\n",
       "      <td>4</td>\n",
       "      <td>34</td>\n",
       "      <td></td>\n",
       "      <td>kcjf3v</td>\n",
       "    </tr>\n",
       "  </tbody>\n",
       "</table>\n",
       "<p>917 rows × 8 columns</p>\n",
       "</div>"
      ],
      "text/plain": [
       "     index                                              title  \\\n",
       "0        0                Red Rocks, 1974 John Denver concert   \n",
       "1        1       Hiking the Royal Gorge in a spring snowstorm   \n",
       "2        2         Rocky Mountain National Park this weekend!   \n",
       "3        3            Milky way at Loveland Pass last weekend   \n",
       "4        4                               Weminuche Wilderness   \n",
       "..     ...                                                ...   \n",
       "912    912  Hoarfrost on one of my sundials this brisk mor...   \n",
       "913    913                  The Stanley Hotel after some snow   \n",
       "914    914              The stanley hotel in Estes in October   \n",
       "915    915  Picture my dad took - Sawatch Range just SW of...   \n",
       "916    916  Favorite spot of the summer. Dolores SWA, publ...   \n",
       "\n",
       "                                                  link              author  \\\n",
       "0    /r/Colorado/comments/mug406/red_rocks_1974_joh...           Mellotime   \n",
       "1    /r/Colorado/comments/muffdl/hiking_the_royal_g...  TaipeiPersonality_   \n",
       "2    /r/Colorado/comments/mufe4j/rocky_mountain_nat...  TaipeiPersonality_   \n",
       "3    /r/Colorado/comments/mud617/milky_way_at_lovel...             Sutitan   \n",
       "4    /r/Colorado/comments/mu835a/weminuche_wilderness/        finerminer17   \n",
       "..                                                 ...                 ...   \n",
       "912  /r/Colorado/comments/kcnpj5/hoarfrost_on_one_o...       IronRainForge   \n",
       "913  /r/Colorado/comments/kclire/the_stanley_hotel_...                TFG4   \n",
       "914  /r/Colorado/comments/kclfwi/the_stanley_hotel_...                TFG4   \n",
       "915  /r/Colorado/comments/kckwut/picture_my_dad_too...       theredcameron   \n",
       "916  /r/Colorado/comments/kcjf3v/favorite_spot_of_t...      snowsurfer2110   \n",
       "\n",
       "     n_comments  score text      id  \n",
       "0             1     28       mug406  \n",
       "1             1     19       muffdl  \n",
       "2             2     19       mufe4j  \n",
       "3            35    692       mud617  \n",
       "4            13    189       mu835a  \n",
       "..          ...    ...  ...     ...  \n",
       "912           5     78       kcnpj5  \n",
       "913           9    251       kclire  \n",
       "914           1     44       kclfwi  \n",
       "915           6     95       kckwut  \n",
       "916           4     34       kcjf3v  \n",
       "\n",
       "[917 rows x 8 columns]"
      ]
     },
     "execution_count": 2,
     "metadata": {},
     "output_type": "execute_result"
    }
   ],
   "source": [
    "import sqlite3\n",
    "import pandas as pd\n",
    "\n",
    "con = sqlite3.connect('co_reddit_next.sqlite')\n",
    "df = pd.read_sql_query('SELECT * from posts;', con)\n",
    "con.close()\n",
    "df"
   ]
  },
  {
   "cell_type": "code",
   "execution_count": 7,
   "id": "ce93e9a2",
   "metadata": {},
   "outputs": [],
   "source": [
    "sentiment_df = pd.read_csv('AFINN-en-165.txt', sep='\\t', names=['word', 'scores'], index_col='word')"
   ]
  },
  {
   "cell_type": "code",
   "execution_count": 8,
   "id": "2b591b72",
   "metadata": {},
   "outputs": [
    {
     "data": {
      "text/html": [
       "<div>\n",
       "<style scoped>\n",
       "    .dataframe tbody tr th:only-of-type {\n",
       "        vertical-align: middle;\n",
       "    }\n",
       "\n",
       "    .dataframe tbody tr th {\n",
       "        vertical-align: top;\n",
       "    }\n",
       "\n",
       "    .dataframe thead th {\n",
       "        text-align: right;\n",
       "    }\n",
       "</style>\n",
       "<table border=\"1\" class=\"dataframe\">\n",
       "  <thead>\n",
       "    <tr style=\"text-align: right;\">\n",
       "      <th></th>\n",
       "      <th>scores</th>\n",
       "    </tr>\n",
       "    <tr>\n",
       "      <th>word</th>\n",
       "      <th></th>\n",
       "    </tr>\n",
       "  </thead>\n",
       "  <tbody>\n",
       "    <tr>\n",
       "      <th>abandon</th>\n",
       "      <td>-2</td>\n",
       "    </tr>\n",
       "    <tr>\n",
       "      <th>abandoned</th>\n",
       "      <td>-2</td>\n",
       "    </tr>\n",
       "    <tr>\n",
       "      <th>abandons</th>\n",
       "      <td>-2</td>\n",
       "    </tr>\n",
       "    <tr>\n",
       "      <th>abducted</th>\n",
       "      <td>-2</td>\n",
       "    </tr>\n",
       "    <tr>\n",
       "      <th>abduction</th>\n",
       "      <td>-2</td>\n",
       "    </tr>\n",
       "    <tr>\n",
       "      <th>...</th>\n",
       "      <td>...</td>\n",
       "    </tr>\n",
       "    <tr>\n",
       "      <th>yucky</th>\n",
       "      <td>-2</td>\n",
       "    </tr>\n",
       "    <tr>\n",
       "      <th>yummy</th>\n",
       "      <td>3</td>\n",
       "    </tr>\n",
       "    <tr>\n",
       "      <th>zealot</th>\n",
       "      <td>-2</td>\n",
       "    </tr>\n",
       "    <tr>\n",
       "      <th>zealots</th>\n",
       "      <td>-2</td>\n",
       "    </tr>\n",
       "    <tr>\n",
       "      <th>zealous</th>\n",
       "      <td>2</td>\n",
       "    </tr>\n",
       "  </tbody>\n",
       "</table>\n",
       "<p>3382 rows × 1 columns</p>\n",
       "</div>"
      ],
      "text/plain": [
       "           scores\n",
       "word             \n",
       "abandon        -2\n",
       "abandoned      -2\n",
       "abandons       -2\n",
       "abducted       -2\n",
       "abduction      -2\n",
       "...           ...\n",
       "yucky          -2\n",
       "yummy           3\n",
       "zealot         -2\n",
       "zealots        -2\n",
       "zealous         2\n",
       "\n",
       "[3382 rows x 1 columns]"
      ]
     },
     "execution_count": 8,
     "metadata": {},
     "output_type": "execute_result"
    }
   ],
   "source": [
    "sentiment_df"
   ]
  },
  {
   "cell_type": "code",
   "execution_count": 10,
   "id": "43e27cbd",
   "metadata": {},
   "outputs": [],
   "source": [
    "sentiment_dict = sentiment_df.to_dict()['scores']"
   ]
  },
  {
   "cell_type": "code",
   "execution_count": 11,
   "id": "cbcf1c3d",
   "metadata": {},
   "outputs": [],
   "source": [
    "import numpy as np\n",
    "\n",
    "title_sentiments = []\n",
    "for title in df['title']:\n",
    "    words = title.lower().split()\n",
    "    this_titles_sentiments = []\n",
    "    for w in words:\n",
    "        if w in sentiment_dict.keys():\n",
    "            this_titles_sentiments.append(sentiment_dict[w])\n",
    "        else:\n",
    "            this_titles_sentiments.append(0)\n",
    "            \n",
    "    \n",
    "    title_sentiments.append(np.mean(this_titles_sentiments))"
   ]
  },
  {
   "cell_type": "code",
   "execution_count": 12,
   "id": "53ffb84f",
   "metadata": {},
   "outputs": [],
   "source": [
    "df['keyword_sentiment'] = title_sentiments"
   ]
  },
  {
   "cell_type": "code",
   "execution_count": 13,
   "id": "816b92ee",
   "metadata": {
    "scrolled": true
   },
   "outputs": [
    {
     "data": {
      "text/plain": [
       "<Axes: ylabel='Frequency'>"
      ]
     },
     "execution_count": 13,
     "metadata": {},
     "output_type": "execute_result"
    },
    {
     "data": {
      "image/png": "[encoded data removed]",
      "text/plain": [
       "<Figure size 640x480 with 1 Axes>"
      ]
     },
     "metadata": {},
     "output_type": "display_data"
    }
   ],
   "source": [
    "df['keyword_sentiment'].plot.hist(bins=30)"
   ]
  },
  {
   "cell_type": "code",
   "execution_count": 14,
   "id": "c7db34d4",
   "metadata": {},
   "outputs": [
    {
     "data": {
      "text/plain": [
       "0.0412800450004885"
      ]
     },
     "execution_count": 14,
     "metadata": {},
     "output_type": "execute_result"
    }
   ],
   "source": [
    "df['keyword_sentiment'].mean()"
   ]
  },
  {
   "cell_type": "code",
   "execution_count": 15,
   "id": "6da2c405",
   "metadata": {},
   "outputs": [
    {
     "data": {
      "text/plain": [
       "0.0"
      ]
     },
     "execution_count": 15,
     "metadata": {},
     "output_type": "execute_result"
    }
   ],
   "source": [
    "df['keyword_sentiment'].median()"
   ]
  },
  {
   "cell_type": "code",
   "execution_count": 16,
   "id": "635cf2da",
   "metadata": {},
   "outputs": [
    {
     "data": {
      "text/plain": [
       "0.21043836291116932"
      ]
     },
     "execution_count": 16,
     "metadata": {},
     "output_type": "execute_result"
    }
   ],
   "source": [
    "df['keyword_sentiment'].std()"
   ]
  },
  {
   "cell_type": "code",
   "execution_count": 17,
   "id": "1dd7d245",
   "metadata": {},
   "outputs": [
    {
     "data": {
      "text/html": [
       "<div>\n",
       "<style scoped>\n",
       "    .dataframe tbody tr th:only-of-type {\n",
       "        vertical-align: middle;\n",
       "    }\n",
       "\n",
       "    .dataframe tbody tr th {\n",
       "        vertical-align: top;\n",
       "    }\n",
       "\n",
       "    .dataframe thead th {\n",
       "        text-align: right;\n",
       "    }\n",
       "</style>\n",
       "<table border=\"1\" class=\"dataframe\">\n",
       "  <thead>\n",
       "    <tr style=\"text-align: right;\">\n",
       "      <th></th>\n",
       "      <th>title</th>\n",
       "      <th>keyword_sentiment</th>\n",
       "    </tr>\n",
       "  </thead>\n",
       "  <tbody>\n",
       "    <tr>\n",
       "      <th>181</th>\n",
       "      <td>Colorado judge strikes down Boulder’s assault ...</td>\n",
       "      <td>-0.625000</td>\n",
       "    </tr>\n",
       "    <tr>\n",
       "      <th>508</th>\n",
       "      <td>Arrests made in deadly Green Valley Ranch arson</td>\n",
       "      <td>-0.625000</td>\n",
       "    </tr>\n",
       "    <tr>\n",
       "      <th>635</th>\n",
       "      <td>7 Injured, 1 Killed In Berthoud Pass Head-On C...</td>\n",
       "      <td>-0.555556</td>\n",
       "    </tr>\n",
       "    <tr>\n",
       "      <th>52</th>\n",
       "      <td>9News, Parent Company Accused of Racist Behavi...</td>\n",
       "      <td>-0.500000</td>\n",
       "    </tr>\n",
       "    <tr>\n",
       "      <th>105</th>\n",
       "      <td>Animal cruelty initiative irks Colorado ranchers</td>\n",
       "      <td>-0.500000</td>\n",
       "    </tr>\n",
       "    <tr>\n",
       "      <th>...</th>\n",
       "      <td>...</td>\n",
       "      <td>...</td>\n",
       "    </tr>\n",
       "    <tr>\n",
       "      <th>780</th>\n",
       "      <td>Good morning Colorado!</td>\n",
       "      <td>1.000000</td>\n",
       "    </tr>\n",
       "    <tr>\n",
       "      <th>860</th>\n",
       "      <td>Colorados beautiful nature</td>\n",
       "      <td>1.000000</td>\n",
       "    </tr>\n",
       "    <tr>\n",
       "      <th>380</th>\n",
       "      <td>Great White Buffalo</td>\n",
       "      <td>1.000000</td>\n",
       "    </tr>\n",
       "    <tr>\n",
       "      <th>738</th>\n",
       "      <td>Love the beautiful snowy Rockies!</td>\n",
       "      <td>1.200000</td>\n",
       "    </tr>\n",
       "    <tr>\n",
       "      <th>524</th>\n",
       "      <td>Beautiful Ouray</td>\n",
       "      <td>1.500000</td>\n",
       "    </tr>\n",
       "  </tbody>\n",
       "</table>\n",
       "<p>917 rows × 2 columns</p>\n",
       "</div>"
      ],
      "text/plain": [
       "                                                 title  keyword_sentiment\n",
       "181  Colorado judge strikes down Boulder’s assault ...          -0.625000\n",
       "508    Arrests made in deadly Green Valley Ranch arson          -0.625000\n",
       "635  7 Injured, 1 Killed In Berthoud Pass Head-On C...          -0.555556\n",
       "52   9News, Parent Company Accused of Racist Behavi...          -0.500000\n",
       "105   Animal cruelty initiative irks Colorado ranchers          -0.500000\n",
       "..                                                 ...                ...\n",
       "780                             Good morning Colorado!           1.000000\n",
       "860                         Colorados beautiful nature           1.000000\n",
       "380                                Great White Buffalo           1.000000\n",
       "738                  Love the beautiful snowy Rockies!           1.200000\n",
       "524                                    Beautiful Ouray           1.500000\n",
       "\n",
       "[917 rows x 2 columns]"
      ]
     },
     "execution_count": 17,
     "metadata": {},
     "output_type": "execute_result"
    }
   ],
   "source": [
    "df.sort_values(by='keyword_sentiment')[['title', 'keyword_sentiment']]"
   ]
  },
  {
   "cell_type": "markdown",
   "id": "236f9eda",
   "metadata": {},
   "source": [
    "# Summary"
   ]
  },
  {
   "cell_type": "markdown",
   "id": "c7d6282c",
   "metadata": {},
   "source": [
    "What was done here was simple. The content is nearly the same from my statistics class from undergraduate. I believe there are a lot of things that can be done with this data; however, I am not entirely aware of the business possibilities. Of course, there are many use cases, and something that I can think of is the standard deviation and how the data engineer can determine how spread out or compact the data is. In certain cases, perhaps at Amazon, this could me content that is displayed for certain users to purchase. As this is not the example, it is something where with similar data it can be used. I still enjoyed the week 7 assingment more, but the keyword sentiment was nice to understand and evalute."
   ]
  },
  {
   "cell_type": "code",
   "execution_count": null,
   "id": "5d56c96d",
   "metadata": {},
   "outputs": [],
   "source": []
  }
 ],
 "metadata": {
  "kernelspec": {
   "display_name": "Python 3 (ipykernel)",
   "language": "python",
   "name": "python3"
  },
  "language_info": {
   "codemirror_mode": {
    "name": "ipython",
    "version": 3
   },
   "file_extension": ".py",
   "mimetype": "text/x-python",
   "name": "python",
   "nbconvert_exporter": "python",
   "pygments_lexer": "ipython3",
   "version": "3.11.4"
  }
 },
 "nbformat": 4,
 "nbformat_minor": 5
}
