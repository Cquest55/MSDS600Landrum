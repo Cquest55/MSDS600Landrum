{
 "cells": [
  {
   "cell_type": "markdown",
   "id": "73fa2b84",
   "metadata": {},
   "source": [
    "# Week 7 Assignment"
   ]
  },
  {
   "cell_type": "markdown",
   "id": "f48ee1c5",
   "metadata": {},
   "source": [
    "This week we are collecting some data from Reddit and doing some basic EDA on it. You should:\n",
    "\n",
    "- create your Reddit account and API keys\n",
    "- collect data from a subreddit of your choice\n",
    "    - at a minimum, collect the posts from the subreddit; optionally collect comments on the posts\n",
    "- save the data to a SQLite3 database\n",
    "- perform some basic EDA on the data\n",
    "    - create at least 2 plots\n",
    "- write a short analysis at the end describing the process and results\n",
    "- turn in the Jupyter Notebook and PDF printout or export to the week 7 dropbox\n",
    "\n",
    "***Optional* advanced section**\n",
    "- Practice SQL queries and select a subsection of the posts you collected\n",
    "- Modify your code to collect data beyond the 1000 item limit\n",
    "- Collect comments from the posts for analysis next week and do some EDA on the comments (e.g. who is the top commenter, which commenters have the most up and down votes or most controversial posts, etc)\n",
    "- examine n-grams ([bigrams](https://stackoverflow.com/a/37651184/4549682), trigrams) or [collocations](https://www.geeksforgeeks.org/nlp-word-collocations/)\n",
    "\n",
    "Note: There is no solution file for this week."
   ]
  },
  {
   "cell_type": "code",
   "execution_count": 2,
   "id": "08f8b7da",
   "metadata": {
    "scrolled": true
   },
   "outputs": [
    {
     "name": "stdout",
     "output_type": "stream",
     "text": [
      "Collecting praw\n",
      "  Obtaining dependency information for praw from https://files.pythonhosted.org/packages/81/6a/21bc058bcccbe03f6a0895bf1bd60c805f0c526aa4e9bfaac775ed0b299c/praw-7.7.1-py3-none-any.whl.metadata\n",
      "  Downloading praw-7.7.1-py3-none-any.whl.metadata (9.8 kB)\n",
      "Collecting prawcore<3,>=2.1 (from praw)\n",
      "  Downloading prawcore-2.3.0-py3-none-any.whl (16 kB)\n",
      "Requirement already satisfied: update-checker>=0.18 in /Users/blandrumjeffries/anaconda3/lib/python3.11/site-packages (from praw) (0.18.0)\n",
      "Requirement already satisfied: websocket-client>=0.54.0 in /Users/blandrumjeffries/anaconda3/lib/python3.11/site-packages (from praw) (0.58.0)\n",
      "Requirement already satisfied: requests<3.0,>=2.6.0 in /Users/blandrumjeffries/anaconda3/lib/python3.11/site-packages (from prawcore<3,>=2.1->praw) (2.31.0)\n",
      "Requirement already satisfied: six in /Users/blandrumjeffries/anaconda3/lib/python3.11/site-packages (from websocket-client>=0.54.0->praw) (1.16.0)\n",
      "Requirement already satisfied: charset-normalizer<4,>=2 in /Users/blandrumjeffries/anaconda3/lib/python3.11/site-packages (from requests<3.0,>=2.6.0->prawcore<3,>=2.1->praw) (2.0.4)\n",
      "Requirement already satisfied: idna<4,>=2.5 in /Users/blandrumjeffries/anaconda3/lib/python3.11/site-packages (from requests<3.0,>=2.6.0->prawcore<3,>=2.1->praw) (3.4)\n",
      "Requirement already satisfied: urllib3<3,>=1.21.1 in /Users/blandrumjeffries/anaconda3/lib/python3.11/site-packages (from requests<3.0,>=2.6.0->prawcore<3,>=2.1->praw) (1.26.16)\n",
      "Requirement already satisfied: certifi>=2017.4.17 in /Users/blandrumjeffries/anaconda3/lib/python3.11/site-packages (from requests<3.0,>=2.6.0->prawcore<3,>=2.1->praw) (2023.7.22)\n",
      "Downloading praw-7.7.1-py3-none-any.whl (191 kB)\n",
      "\u001b[2K   \u001b[90m━━━━━━━━━━━━━━━━━━━━━━━━━━━━━━━━━━━━━━━━\u001b[0m \u001b[32m191.0/191.0 kB\u001b[0m \u001b[31m3.5 MB/s\u001b[0m eta \u001b[36m0:00:00\u001b[0ma \u001b[36m0:00:01\u001b[0m\n",
      "\u001b[?25hInstalling collected packages: prawcore, praw\n",
      "Successfully installed praw-7.7.1 prawcore-2.3.0\n",
      "Note: you may need to restart the kernel to use updated packages.\n"
     ]
    }
   ],
   "source": [
    "pip install credentials"
   ]
  },
  {
   "cell_type": "code",
   "execution_count": 3,
   "id": "38197075",
   "metadata": {},
   "outputs": [
    {
     "name": "stdout",
     "output_type": "stream",
     "text": [
      "Collecting credentials\n",
      "  Downloading credentials-1.1-py2.py3-none-any.whl (4.2 kB)\n",
      "Installing collected packages: credentials\n",
      "Successfully installed credentials-1.1\n",
      "Note: you may need to restart the kernel to use updated packages.\n"
     ]
    }
   ],
   "source": [
    "pip install credentials"
   ]
  },
  {
   "cell_type": "code",
   "execution_count": 4,
   "id": "7c87d583",
   "metadata": {},
   "outputs": [],
   "source": [
    "import praw\n",
    "import pandas as pd\n",
    "\n",
    "import credentials"
   ]
  },
  {
   "cell_type": "code",
   "execution_count": 12,
   "id": "115bc0db",
   "metadata": {
    "scrolled": true
   },
   "outputs": [],
   "source": [
    "reddit = praw.Reddit(client_id='FROiJb46c9guomB9cAYC6A',\n",
    "                     client_secret='Xa9ensh1PTTGYC7ORct24NRmbs8tFA',\n",
    "                     user_agent='testapp')"
   ]
  },
  {
   "cell_type": "code",
   "execution_count": 13,
   "id": "be87b2f7",
   "metadata": {
    "scrolled": true
   },
   "outputs": [],
   "source": [
    "co_subreddit = reddit.subreddit('brazil').hot(limit=5)"
   ]
  },
  {
   "cell_type": "code",
   "execution_count": 14,
   "id": "7a67fd17",
   "metadata": {
    "scrolled": true
   },
   "outputs": [
    {
     "name": "stdout",
     "output_type": "stream",
     "text": [
      "I wanted to buy a phone for a friend in Brazil, over Brazilian Amazon to avoid the huge import fees i got last year. But then it asks me for a code i dont have, something i can do? 98\n",
      "Is there a specific term to refer to luso-cognate words contrasted in foreign contexts? 182\n",
      "In need of a Brazilian resident to get me an online service 2\n",
      "Indigenous women are showing us how to fight for environmental and human rights | V (formerly known as Eve Ensler) 3\n",
      "‘We defended our right to the land’: Brazil’s Indigenous people hail supreme court victory 7\n"
     ]
    }
   ],
   "source": [
    "for post in co_subreddit:\n",
    "    print(post.title, post.score)"
   ]
  },
  {
   "cell_type": "code",
   "execution_count": 15,
   "id": "80a59cec",
   "metadata": {},
   "outputs": [
    {
     "data": {
      "text/plain": [
       "[]"
      ]
     },
     "execution_count": 15,
     "metadata": {},
     "output_type": "execute_result"
    }
   ],
   "source": [
    "list(co_subreddit)"
   ]
  },
  {
   "cell_type": "code",
   "execution_count": 16,
   "id": "20212804",
   "metadata": {},
   "outputs": [
    {
     "data": {
      "text/plain": [
       "7"
      ]
     },
     "execution_count": 16,
     "metadata": {},
     "output_type": "execute_result"
    }
   ],
   "source": [
    "post.score"
   ]
  },
  {
   "cell_type": "code",
   "execution_count": 17,
   "id": "29f793a2",
   "metadata": {},
   "outputs": [],
   "source": [
    "reddit_data = {'title': [],\n",
    "              'link': [],\n",
    "              'author': [],\n",
    "              'n_comments': [],\n",
    "              'score': [],\n",
    "              'text': []}\n",
    "\n",
    "\n",
    "co_subreddit = reddit.subreddit('brazil').hot(limit=100)\n",
    "\n",
    "for post in list(co_subreddit):\n",
    "    reddit_data['title'].append(post.title)\n",
    "    reddit_data['link'].append(post.permalink)\n",
    "    if post.author is None:\n",
    "        reddit_data['author'].append('')\n",
    "    else:\n",
    "        reddit_data['author'].append(post.author.name)\n",
    "    \n",
    "    reddit_data['n_comments'].append(post.num_comments)\n",
    "    reddit_data['score'].append(post.score)\n",
    "    reddit_data['text'].append(post.selftext)"
   ]
  },
  {
   "cell_type": "code",
   "execution_count": 18,
   "id": "fa1fce93",
   "metadata": {},
   "outputs": [],
   "source": [
    "co_df = pd.DataFrame(reddit_data)"
   ]
  },
  {
   "cell_type": "code",
   "execution_count": 19,
   "id": "ae4df6ce",
   "metadata": {},
   "outputs": [
    {
     "data": {
      "text/html": [
       "<div>\n",
       "<style scoped>\n",
       "    .dataframe tbody tr th:only-of-type {\n",
       "        vertical-align: middle;\n",
       "    }\n",
       "\n",
       "    .dataframe tbody tr th {\n",
       "        vertical-align: top;\n",
       "    }\n",
       "\n",
       "    .dataframe thead th {\n",
       "        text-align: right;\n",
       "    }\n",
       "</style>\n",
       "<table border=\"1\" class=\"dataframe\">\n",
       "  <thead>\n",
       "    <tr style=\"text-align: right;\">\n",
       "      <th></th>\n",
       "      <th>title</th>\n",
       "      <th>link</th>\n",
       "      <th>author</th>\n",
       "      <th>n_comments</th>\n",
       "      <th>score</th>\n",
       "      <th>text</th>\n",
       "    </tr>\n",
       "  </thead>\n",
       "  <tbody>\n",
       "    <tr>\n",
       "      <th>0</th>\n",
       "      <td>I wanted to buy a phone for a friend in Brazil...</td>\n",
       "      <td>/r/Brazil/comments/16rv12i/i_wanted_to_buy_a_p...</td>\n",
       "      <td>SovietPuma1707</td>\n",
       "      <td>44</td>\n",
       "      <td>99</td>\n",
       "      <td></td>\n",
       "    </tr>\n",
       "    <tr>\n",
       "      <th>1</th>\n",
       "      <td>Is there a specific term to refer to luso-cogn...</td>\n",
       "      <td>/r/Brazil/comments/16r6std/is_there_a_specific...</td>\n",
       "      <td>Different_Low7781</td>\n",
       "      <td>35</td>\n",
       "      <td>182</td>\n",
       "      <td></td>\n",
       "    </tr>\n",
       "    <tr>\n",
       "      <th>2</th>\n",
       "      <td>In need of a Brazilian resident to get me an o...</td>\n",
       "      <td>/r/Brazil/comments/16ryme0/in_need_of_a_brazil...</td>\n",
       "      <td>NeedleworkerCrazy400</td>\n",
       "      <td>3</td>\n",
       "      <td>2</td>\n",
       "      <td>Hi there to all Brazilian people.   \\nI need t...</td>\n",
       "    </tr>\n",
       "    <tr>\n",
       "      <th>3</th>\n",
       "      <td>Indigenous women are showing us how to fight f...</td>\n",
       "      <td>/r/Brazil/comments/16rsyyy/indigenous_women_ar...</td>\n",
       "      <td>brazil_bot</td>\n",
       "      <td>0</td>\n",
       "      <td>3</td>\n",
       "      <td></td>\n",
       "    </tr>\n",
       "    <tr>\n",
       "      <th>4</th>\n",
       "      <td>‘We defended our right to the land’: Brazil’s ...</td>\n",
       "      <td>/r/Brazil/comments/16rk49x/we_defended_our_rig...</td>\n",
       "      <td>brazil_bot</td>\n",
       "      <td>1</td>\n",
       "      <td>9</td>\n",
       "      <td></td>\n",
       "    </tr>\n",
       "    <tr>\n",
       "      <th>...</th>\n",
       "      <td>...</td>\n",
       "      <td>...</td>\n",
       "      <td>...</td>\n",
       "      <td>...</td>\n",
       "      <td>...</td>\n",
       "      <td>...</td>\n",
       "    </tr>\n",
       "    <tr>\n",
       "      <th>95</th>\n",
       "      <td>Need an apartment/ Roommate in Santa Barbara (...</td>\n",
       "      <td>/r/Brazil/comments/16m76a1/need_an_apartment_r...</td>\n",
       "      <td>AnteM16</td>\n",
       "      <td>0</td>\n",
       "      <td>1</td>\n",
       "      <td>I'm staying in Brasil for an internship for 5 ...</td>\n",
       "    </tr>\n",
       "    <tr>\n",
       "      <th>96</th>\n",
       "      <td>Chapeco - what to do?</td>\n",
       "      <td>/r/Brazil/comments/16lw74l/chapeco_what_to_do/</td>\n",
       "      <td>Olivia150323</td>\n",
       "      <td>9</td>\n",
       "      <td>2</td>\n",
       "      <td>Dear Brazilians,\\n\\nIn november I will finally...</td>\n",
       "    </tr>\n",
       "    <tr>\n",
       "      <th>97</th>\n",
       "      <td>Booked a trip to brasil without checking the r...</td>\n",
       "      <td>/r/Brazil/comments/16l7rzw/booked_a_trip_to_br...</td>\n",
       "      <td>desdo21</td>\n",
       "      <td>117</td>\n",
       "      <td>98</td>\n",
       "      <td>Hey, I’m living in Germany and was extremely c...</td>\n",
       "    </tr>\n",
       "    <tr>\n",
       "      <th>98</th>\n",
       "      <td>The Busiest Subway in the World? | São Paulo M...</td>\n",
       "      <td>/r/Brazil/comments/16leuwk/the_busiest_subway_...</td>\n",
       "      <td>capybara_from_hell</td>\n",
       "      <td>11</td>\n",
       "      <td>37</td>\n",
       "      <td></td>\n",
       "    </tr>\n",
       "    <tr>\n",
       "      <th>99</th>\n",
       "      <td>Nomad visa renewal</td>\n",
       "      <td>/r/Brazil/comments/16m3hae/nomad_visa_renewal/</td>\n",
       "      <td>NoStructure371</td>\n",
       "      <td>6</td>\n",
       "      <td>0</td>\n",
       "      <td>Hello friends,\\n\\nI am currently a temporary B...</td>\n",
       "    </tr>\n",
       "  </tbody>\n",
       "</table>\n",
       "<p>100 rows × 6 columns</p>\n",
       "</div>"
      ],
      "text/plain": [
       "                                                title  \\\n",
       "0   I wanted to buy a phone for a friend in Brazil...   \n",
       "1   Is there a specific term to refer to luso-cogn...   \n",
       "2   In need of a Brazilian resident to get me an o...   \n",
       "3   Indigenous women are showing us how to fight f...   \n",
       "4   ‘We defended our right to the land’: Brazil’s ...   \n",
       "..                                                ...   \n",
       "95  Need an apartment/ Roommate in Santa Barbara (...   \n",
       "96                              Chapeco - what to do?   \n",
       "97  Booked a trip to brasil without checking the r...   \n",
       "98  The Busiest Subway in the World? | São Paulo M...   \n",
       "99                                 Nomad visa renewal   \n",
       "\n",
       "                                                 link                author  \\\n",
       "0   /r/Brazil/comments/16rv12i/i_wanted_to_buy_a_p...        SovietPuma1707   \n",
       "1   /r/Brazil/comments/16r6std/is_there_a_specific...     Different_Low7781   \n",
       "2   /r/Brazil/comments/16ryme0/in_need_of_a_brazil...  NeedleworkerCrazy400   \n",
       "3   /r/Brazil/comments/16rsyyy/indigenous_women_ar...            brazil_bot   \n",
       "4   /r/Brazil/comments/16rk49x/we_defended_our_rig...            brazil_bot   \n",
       "..                                                ...                   ...   \n",
       "95  /r/Brazil/comments/16m76a1/need_an_apartment_r...               AnteM16   \n",
       "96     /r/Brazil/comments/16lw74l/chapeco_what_to_do/          Olivia150323   \n",
       "97  /r/Brazil/comments/16l7rzw/booked_a_trip_to_br...               desdo21   \n",
       "98  /r/Brazil/comments/16leuwk/the_busiest_subway_...    capybara_from_hell   \n",
       "99     /r/Brazil/comments/16m3hae/nomad_visa_renewal/        NoStructure371   \n",
       "\n",
       "    n_comments  score                                               text  \n",
       "0           44     99                                                     \n",
       "1           35    182                                                     \n",
       "2            3      2  Hi there to all Brazilian people.   \\nI need t...  \n",
       "3            0      3                                                     \n",
       "4            1      9                                                     \n",
       "..         ...    ...                                                ...  \n",
       "95           0      1  I'm staying in Brasil for an internship for 5 ...  \n",
       "96           9      2  Dear Brazilians,\\n\\nIn november I will finally...  \n",
       "97         117     98  Hey, I’m living in Germany and was extremely c...  \n",
       "98          11     37                                                     \n",
       "99           6      0  Hello friends,\\n\\nI am currently a temporary B...  \n",
       "\n",
       "[100 rows x 6 columns]"
      ]
     },
     "execution_count": 19,
     "metadata": {},
     "output_type": "execute_result"
    }
   ],
   "source": [
    "co_df"
   ]
  },
  {
   "cell_type": "code",
   "execution_count": 20,
   "id": "33b24dfd",
   "metadata": {},
   "outputs": [
    {
     "data": {
      "text/plain": [
       "100"
      ]
     },
     "execution_count": 20,
     "metadata": {},
     "output_type": "execute_result"
    }
   ],
   "source": [
    "import sqlite3\n",
    "\n",
    "con = sqlite3.connect(\"co_reddit.sqlite\")\n",
    "co_df.to_sql('posts', con, if_exists='replace', index=False)"
   ]
  },
  {
   "cell_type": "code",
   "execution_count": 21,
   "id": "32542085",
   "metadata": {
    "scrolled": true
   },
   "outputs": [
    {
     "data": {
      "text/html": [
       "<div>\n",
       "<style scoped>\n",
       "    .dataframe tbody tr th:only-of-type {\n",
       "        vertical-align: middle;\n",
       "    }\n",
       "\n",
       "    .dataframe tbody tr th {\n",
       "        vertical-align: top;\n",
       "    }\n",
       "\n",
       "    .dataframe thead th {\n",
       "        text-align: right;\n",
       "    }\n",
       "</style>\n",
       "<table border=\"1\" class=\"dataframe\">\n",
       "  <thead>\n",
       "    <tr style=\"text-align: right;\">\n",
       "      <th></th>\n",
       "      <th>title</th>\n",
       "      <th>link</th>\n",
       "      <th>author</th>\n",
       "      <th>n_comments</th>\n",
       "      <th>score</th>\n",
       "      <th>text</th>\n",
       "    </tr>\n",
       "  </thead>\n",
       "  <tbody>\n",
       "    <tr>\n",
       "      <th>0</th>\n",
       "      <td>I wanted to buy a phone for a friend in Brazil...</td>\n",
       "      <td>/r/Brazil/comments/16rv12i/i_wanted_to_buy_a_p...</td>\n",
       "      <td>SovietPuma1707</td>\n",
       "      <td>44</td>\n",
       "      <td>99</td>\n",
       "      <td></td>\n",
       "    </tr>\n",
       "    <tr>\n",
       "      <th>1</th>\n",
       "      <td>Is there a specific term to refer to luso-cogn...</td>\n",
       "      <td>/r/Brazil/comments/16r6std/is_there_a_specific...</td>\n",
       "      <td>Different_Low7781</td>\n",
       "      <td>35</td>\n",
       "      <td>182</td>\n",
       "      <td></td>\n",
       "    </tr>\n",
       "    <tr>\n",
       "      <th>2</th>\n",
       "      <td>In need of a Brazilian resident to get me an o...</td>\n",
       "      <td>/r/Brazil/comments/16ryme0/in_need_of_a_brazil...</td>\n",
       "      <td>NeedleworkerCrazy400</td>\n",
       "      <td>3</td>\n",
       "      <td>2</td>\n",
       "      <td>Hi there to all Brazilian people.   \\nI need t...</td>\n",
       "    </tr>\n",
       "    <tr>\n",
       "      <th>3</th>\n",
       "      <td>Indigenous women are showing us how to fight f...</td>\n",
       "      <td>/r/Brazil/comments/16rsyyy/indigenous_women_ar...</td>\n",
       "      <td>brazil_bot</td>\n",
       "      <td>0</td>\n",
       "      <td>3</td>\n",
       "      <td></td>\n",
       "    </tr>\n",
       "    <tr>\n",
       "      <th>4</th>\n",
       "      <td>‘We defended our right to the land’: Brazil’s ...</td>\n",
       "      <td>/r/Brazil/comments/16rk49x/we_defended_our_rig...</td>\n",
       "      <td>brazil_bot</td>\n",
       "      <td>1</td>\n",
       "      <td>9</td>\n",
       "      <td></td>\n",
       "    </tr>\n",
       "    <tr>\n",
       "      <th>...</th>\n",
       "      <td>...</td>\n",
       "      <td>...</td>\n",
       "      <td>...</td>\n",
       "      <td>...</td>\n",
       "      <td>...</td>\n",
       "      <td>...</td>\n",
       "    </tr>\n",
       "    <tr>\n",
       "      <th>95</th>\n",
       "      <td>Need an apartment/ Roommate in Santa Barbara (...</td>\n",
       "      <td>/r/Brazil/comments/16m76a1/need_an_apartment_r...</td>\n",
       "      <td>AnteM16</td>\n",
       "      <td>0</td>\n",
       "      <td>1</td>\n",
       "      <td>I'm staying in Brasil for an internship for 5 ...</td>\n",
       "    </tr>\n",
       "    <tr>\n",
       "      <th>96</th>\n",
       "      <td>Chapeco - what to do?</td>\n",
       "      <td>/r/Brazil/comments/16lw74l/chapeco_what_to_do/</td>\n",
       "      <td>Olivia150323</td>\n",
       "      <td>9</td>\n",
       "      <td>2</td>\n",
       "      <td>Dear Brazilians,\\n\\nIn november I will finally...</td>\n",
       "    </tr>\n",
       "    <tr>\n",
       "      <th>97</th>\n",
       "      <td>Booked a trip to brasil without checking the r...</td>\n",
       "      <td>/r/Brazil/comments/16l7rzw/booked_a_trip_to_br...</td>\n",
       "      <td>desdo21</td>\n",
       "      <td>117</td>\n",
       "      <td>98</td>\n",
       "      <td>Hey, I’m living in Germany and was extremely c...</td>\n",
       "    </tr>\n",
       "    <tr>\n",
       "      <th>98</th>\n",
       "      <td>The Busiest Subway in the World? | São Paulo M...</td>\n",
       "      <td>/r/Brazil/comments/16leuwk/the_busiest_subway_...</td>\n",
       "      <td>capybara_from_hell</td>\n",
       "      <td>11</td>\n",
       "      <td>37</td>\n",
       "      <td></td>\n",
       "    </tr>\n",
       "    <tr>\n",
       "      <th>99</th>\n",
       "      <td>Nomad visa renewal</td>\n",
       "      <td>/r/Brazil/comments/16m3hae/nomad_visa_renewal/</td>\n",
       "      <td>NoStructure371</td>\n",
       "      <td>6</td>\n",
       "      <td>0</td>\n",
       "      <td>Hello friends,\\n\\nI am currently a temporary B...</td>\n",
       "    </tr>\n",
       "  </tbody>\n",
       "</table>\n",
       "<p>100 rows × 6 columns</p>\n",
       "</div>"
      ],
      "text/plain": [
       "                                                title  \\\n",
       "0   I wanted to buy a phone for a friend in Brazil...   \n",
       "1   Is there a specific term to refer to luso-cogn...   \n",
       "2   In need of a Brazilian resident to get me an o...   \n",
       "3   Indigenous women are showing us how to fight f...   \n",
       "4   ‘We defended our right to the land’: Brazil’s ...   \n",
       "..                                                ...   \n",
       "95  Need an apartment/ Roommate in Santa Barbara (...   \n",
       "96                              Chapeco - what to do?   \n",
       "97  Booked a trip to brasil without checking the r...   \n",
       "98  The Busiest Subway in the World? | São Paulo M...   \n",
       "99                                 Nomad visa renewal   \n",
       "\n",
       "                                                 link                author  \\\n",
       "0   /r/Brazil/comments/16rv12i/i_wanted_to_buy_a_p...        SovietPuma1707   \n",
       "1   /r/Brazil/comments/16r6std/is_there_a_specific...     Different_Low7781   \n",
       "2   /r/Brazil/comments/16ryme0/in_need_of_a_brazil...  NeedleworkerCrazy400   \n",
       "3   /r/Brazil/comments/16rsyyy/indigenous_women_ar...            brazil_bot   \n",
       "4   /r/Brazil/comments/16rk49x/we_defended_our_rig...            brazil_bot   \n",
       "..                                                ...                   ...   \n",
       "95  /r/Brazil/comments/16m76a1/need_an_apartment_r...               AnteM16   \n",
       "96     /r/Brazil/comments/16lw74l/chapeco_what_to_do/          Olivia150323   \n",
       "97  /r/Brazil/comments/16l7rzw/booked_a_trip_to_br...               desdo21   \n",
       "98  /r/Brazil/comments/16leuwk/the_busiest_subway_...    capybara_from_hell   \n",
       "99     /r/Brazil/comments/16m3hae/nomad_visa_renewal/        NoStructure371   \n",
       "\n",
       "    n_comments  score                                               text  \n",
       "0           44     99                                                     \n",
       "1           35    182                                                     \n",
       "2            3      2  Hi there to all Brazilian people.   \\nI need t...  \n",
       "3            0      3                                                     \n",
       "4            1      9                                                     \n",
       "..         ...    ...                                                ...  \n",
       "95           0      1  I'm staying in Brasil for an internship for 5 ...  \n",
       "96           9      2  Dear Brazilians,\\n\\nIn november I will finally...  \n",
       "97         117     98  Hey, I’m living in Germany and was extremely c...  \n",
       "98          11     37                                                     \n",
       "99           6      0  Hello friends,\\n\\nI am currently a temporary B...  \n",
       "\n",
       "[100 rows x 6 columns]"
      ]
     },
     "execution_count": 21,
     "metadata": {},
     "output_type": "execute_result"
    }
   ],
   "source": [
    "co_df_check = pd.read_sql_query('SELECT * FROM posts;', con)\n",
    "# it's best to close the connection when finished\n",
    "con.close()\n",
    "co_df_check"
   ]
  },
  {
   "cell_type": "code",
   "execution_count": 25,
   "id": "8580e95c",
   "metadata": {},
   "outputs": [
    {
     "data": {
      "text/plain": [
       "<Axes: ylabel='Frequency'>"
      ]
     },
     "execution_count": 25,
     "metadata": {},
     "output_type": "execute_result"
    },
    {
     "data": {
      "image/png": "[encoded data removed]",
      "text/plain": [
       "<Figure size 640x480 with 1 Axes>"
      ]
     },
     "metadata": {},
     "output_type": "display_data"
    }
   ],
   "source": [
    "co_df['score'].plot.hist(bins=5)"
   ]
  },
  {
   "cell_type": "code",
   "execution_count": 26,
   "id": "749a18d2",
   "metadata": {},
   "outputs": [
    {
     "data": {
      "text/plain": [
       "<Axes: ylabel='Frequency'>"
      ]
     },
     "execution_count": 26,
     "metadata": {},
     "output_type": "execute_result"
    },
    {
     "data": {
      "image/png": "[encoded data removed]",
      "text/plain": [
       "<Figure size 640x480 with 1 Axes>"
      ]
     },
     "metadata": {},
     "output_type": "display_data"
    }
   ],
   "source": [
    "co_df['n_comments'].plot.hist(bins=30)"
   ]
  },
  {
   "cell_type": "code",
   "execution_count": 27,
   "id": "b4b19f57",
   "metadata": {},
   "outputs": [
    {
     "data": {
      "text/plain": [
       "<Axes: xlabel='author'>"
      ]
     },
     "execution_count": 27,
     "metadata": {},
     "output_type": "execute_result"
    },
    {
     "data": {
      "image/png": "[encoded data removed]",
      "text/plain": [
       "<Figure size 640x480 with 1 Axes>"
      ]
     },
     "metadata": {},
     "output_type": "display_data"
    }
   ],
   "source": [
    "co_df['author'].value_counts()[:10].plot.bar()"
   ]
  },
  {
   "cell_type": "markdown",
   "id": "ec5fce48",
   "metadata": {},
   "source": [
    "# Analysis"
   ]
  },
  {
   "cell_type": "markdown",
   "id": "ed918e12",
   "metadata": {},
   "source": [
    "The hardest part about this lab was accessing the reddit information. It was not complicated, but rather the exact information needed to place into the Praw method call was hiddent. Thankfully, the users of reddit provide a small example on how this is working. This api is really cool, the amount of content that can be gathered from this API is wild, it is like surfing through certain subreddits, and analyzing the authors, posts, and comments. I believe this is something that could be very useful. With a small amount of machine learning and AI, it would be easy to predict how and where to post to gain karma. Great assignment, my favorite thus far! "
   ]
  },
  {
   "cell_type": "code",
   "execution_count": null,
   "id": "8f317d39",
   "metadata": {},
   "outputs": [],
   "source": []
  }
 ],
 "metadata": {
  "kernelspec": {
   "display_name": "Python 3 (ipykernel)",
   "language": "python",
   "name": "python3"
  },
  "language_info": {
   "codemirror_mode": {
    "name": "ipython",
    "version": 3
   },
   "file_extension": ".py",
   "mimetype": "text/x-python",
   "name": "python",
   "nbconvert_exporter": "python",
   "pygments_lexer": "ipython3",
   "version": "3.11.4"
  }
 },
 "nbformat": 4,
 "nbformat_minor": 5
}
